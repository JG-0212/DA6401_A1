{
 "cells": [
  {
   "cell_type": "code",
   "execution_count": 2,
   "metadata": {},
   "outputs": [],
   "source": [
    "from Data import *\n",
    "from NeuralNetwork import *\n",
    "%load_ext autoreload\n",
    "%autoreload 2"
   ]
  },
  {
   "cell_type": "code",
   "execution_count": 6,
   "metadata": {},
   "outputs": [
    {
     "name": "stdout",
     "output_type": "stream",
     "text": [
      "Sum : 9.613776882846402\n",
      "Sum : -8.085697174227047\n",
      "Sum : -20.84288965985256\n",
      "Sum : 18.229967252781897\n",
      "Sum : 5.693926544576241\n"
     ]
    }
   ],
   "source": [
    "(train_images, train_labels), (test_images, test_labels)   =  load_data(name = 'fashion_mnist')\n",
    "train_images, train_labels, valid_images, valid_labels = split_validation(train_images, train_labels, valid_size=0.1, seed = 42)\n",
    "train_images, train_labels,_,_ = split_validation(train_images, train_labels, valid_size=0.95, seed = 42)\n",
    "X_train, X_valid, X_test = preprocess(train_images), preprocess(valid_images), preprocess(test_images)\n",
    "y_train, y_valid, y_test = one_hot_encoded(train_labels), one_hot_encoded(valid_labels), one_hot_encoded(test_labels)\n",
    "\n",
    "#Reading the config file\n",
    "\n",
    "#Getting the configutation from wandb sweep\n",
    "num_layers = 4\n",
    "hidden_size = 252\n",
    "lr = 1e-4\n",
    "beta = 0.99\n",
    "beta_m = 0.99\n",
    "beta_v = 0.99\n",
    "alpha = 0.5\n",
    "winit = \"Xavier\"\n",
    "bs = 32\n",
    "epochs = 3\n",
    "optimizer_name = 'nadam'\n",
    "g_activation = \"tanh\"\n",
    "\n",
    "\n",
    "#Preparing hyperparameters for our optimizer\n",
    "if optimizer_name == 'sgd':\n",
    "    optim_hp = {'learning_rate':lr, 'alpha': alpha}\n",
    "elif optimizer_name == 'momentum' or optimizer_name == 'nag' or optimizer_name == 'rmsprop':\n",
    "    optim_hp = {'learning_rate':lr, 'beta': beta, 'alpha': alpha}\n",
    "elif optimizer_name == 'adam' or optimizer_name == 'nadam':\n",
    "    optim_hp = {'learning_rate':lr, 'beta_m': beta_m, 'beta_v': beta_v, 'alpha':alpha}\n",
    "\n",
    "n_features = X_train.shape[1]\n",
    "n_classes = y_train.shape[1]\n",
    "hidden_sizes = [hidden_size]*num_layers + [n_classes]\n",
    "\n",
    "network_hp = {'batch_size': bs, 'g_activation': ACTIVATIONS_MAP[g_activation]}\n",
    "mynn = MyNeuralNetwork(n_features, hidden_sizes, n_classes)\n",
    "mynn.params_init(way = winit)\n",
    "# mynn.update_network_hp(**network_hp)  \n",
    "# mynn.update_optim_hp(optimizer_name,**optim_hp)    \n",
    "# mynn.train(X_train,y_train,X_valid,y_valid,epochs = epochs)"
   ]
  },
  {
   "cell_type": "code",
   "execution_count": 20,
   "metadata": {},
   "outputs": [],
   "source": [
    "y_test_pred = mynn.predict(X_test)"
   ]
  },
  {
   "cell_type": "code",
   "execution_count": 21,
   "metadata": {},
   "outputs": [
    {
     "name": "stdout",
     "output_type": "stream",
     "text": [
      "0.7294\n"
     ]
    }
   ],
   "source": [
    "print(np.sum(np.argmax(y_test,axis = 1)==np.argmax(y_test_pred,axis = 1))/y_test.shape[0])"
   ]
  },
  {
   "cell_type": "code",
   "execution_count": 38,
   "metadata": {},
   "outputs": [
    {
     "data": {
      "text/plain": [
       "(array([0, 1, 2, 3, 4, 5, 6, 7, 8, 9]),\n",
       " array([270, 270, 270, 270, 270, 270, 270, 270, 270, 270]))"
      ]
     },
     "execution_count": 38,
     "metadata": {},
     "output_type": "execute_result"
    }
   ],
   "source": [
    "from collections import Counter\n",
    "np.unique(np.argmax(y_train,axis = 1), return_counts = True)"
   ]
  },
  {
   "cell_type": "code",
   "execution_count": 19,
   "metadata": {},
   "outputs": [
    {
     "data": {
      "text/plain": [
       "array([[ 0.44397905, -0.2270532 ,  0.85351622, ..., -1.66284238,\n",
       "         0.06621643,  0.46687932],\n",
       "       [ 0.55918849,  1.16691805,  0.87170058, ..., -0.33291553,\n",
       "         0.1899259 ,  0.71354788],\n",
       "       [-1.5601007 , -0.5778982 ,  0.67630795, ..., -0.57130518,\n",
       "         0.88317859,  0.44534818],\n",
       "       ...,\n",
       "       [-0.53291019, -0.67599409,  1.37280076, ...,  1.81105739,\n",
       "        -0.12194865,  0.84618229],\n",
       "       [ 0.82133766,  0.64010845, -0.43371267, ..., -1.92825264,\n",
       "        -0.22334057, -0.67335536],\n",
       "       [ 1.76370395, -0.02307934, -0.35251759, ...,  1.24726423,\n",
       "         1.64829953,  1.31408006]])"
      ]
     },
     "execution_count": 19,
     "metadata": {},
     "output_type": "execute_result"
    }
   ],
   "source": [
    "mynn.weights[0]"
   ]
  },
  {
   "cell_type": "markdown",
   "metadata": {},
   "source": []
  }
 ],
 "metadata": {
  "kernelspec": {
   "display_name": "dl_env",
   "language": "python",
   "name": "python3"
  },
  "language_info": {
   "codemirror_mode": {
    "name": "ipython",
    "version": 3
   },
   "file_extension": ".py",
   "mimetype": "text/x-python",
   "name": "python",
   "nbconvert_exporter": "python",
   "pygments_lexer": "ipython3",
   "version": "3.12.0"
  }
 },
 "nbformat": 4,
 "nbformat_minor": 2
}
