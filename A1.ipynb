{
 "cells": [
  {
   "cell_type": "code",
   "execution_count": 2,
   "metadata": {},
   "outputs": [],
   "source": [
    "from keras.datasets import fashion_mnist\n",
    "import numpy as np\n",
    "import matplotlib.pyplot as plt"
   ]
  },
  {
   "cell_type": "code",
   "execution_count": 3,
   "metadata": {},
   "outputs": [],
   "source": [
    "(train_images, train_labels), (test_images, test_labels) = fashion_mnist.load_data()\n",
    "class_names = ['T-shirt/top', 'Trouser', 'Pullover', 'Dress', 'Coat',\n",
    "               'Sandal', 'Shirt', 'Sneaker', 'Bag', 'Ankle boot']"
   ]
  },
  {
   "cell_type": "markdown",
   "metadata": {},
   "source": [
    "# QUESTION 1"
   ]
  },
  {
   "cell_type": "code",
   "execution_count": null,
   "metadata": {},
   "outputs": [],
   "source": [
    "def get_class_sample(data,labels,class_names):\n",
    "    classes = np.unique(labels)\n",
    "    n_classes = classes.shape[0]\n",
    "\n",
    "    rows,cols = int(np.sqrt(n_classes)), int(np.sqrt(n_classes))\n",
    "    rows  = rows + 1 if cols**2!=n_classes else rows\n",
    "    fig,axes = plt.subplots(rows,cols, figsize = (6,6))\n",
    "    for ax in axes.ravel():\n",
    "        ax.set_axis_off()\n",
    "    plt.axis('off')\n",
    "    i,j = 0,0\n",
    "    for ind,c in enumerate(classes):\n",
    "        class_name = class_names[ind]\n",
    "        idx = np.where(labels==c)[0][0]\n",
    "        image = data[idx]\n",
    "        axes[i,j].imshow(image,cmap = 'gray')\n",
    "        axes[i,j].set_title(class_name)\n",
    "        j += 1\n",
    "        if(j>=cols):\n",
    "            i += 1\n",
    "            j = 0\n",
    "    plt.show()"
   ]
  },
  {
   "cell_type": "code",
   "execution_count": null,
   "metadata": {},
   "outputs": [
    {
     "data": {
      "image/png": "[encoded data removed]",
      "text/plain": [
       "<Figure size 600x600 with 12 Axes>"
      ]
     },
     "metadata": {},
     "output_type": "display_data"
    }
   ],
   "source": [
    "get_class_sample(train_images,train_labels,class_names)"
   ]
  },
  {
   "cell_type": "code",
   "execution_count": null,
   "metadata": {},
   "outputs": [],
   "source": [
    "def sigmoid(x):\n",
    "    return 1/(1+np.exp(-x))\n",
    "\n",
    "def softmax(x):\n",
    "    ex = np.exp(x)\n",
    "    den = np.sum(ex)\n",
    "    return ex/den"
   ]
  },
  {
   "cell_type": "code",
   "execution_count": null,
   "metadata": {},
   "outputs": [],
   "source": [
    "class GD:\n",
    "    def __init__(self,learning_rate):\n",
    "        self.learning_rate = learning_rate\n",
    "        \n",
    "    def update(self, weights, biases, weight_gradients, bias_gradients):\n",
    "        for i in range(len(weights)):\n",
    "            weights[i] -= self.learning_rate*weight_gradients[i]\n",
    "            biases[i] -= self.learning_rate*bias_gradients[i]\n",
    "\n",
    "class Fast_GD:\n",
    "    def __init__(self,learning_rate,beta):\n",
    "        self.learning_rate = learning_rate\n",
    "        self.beta = beta\n",
    "        self.uw = []\n",
    "        self.ub = []\n",
    "    def update(self, weights, biases, weight_gradients, bias_gradients):\n",
    "        for i in range(len(weights)):\n",
    "            self.uw[i] = self.beta*self.uw[i] + weight_gradients[i]  if self.uw.empty()!=True  else weight_gradients[i]\n",
    "            weights[i] -= self.learning_rate*self.uw[i]\n",
    "            self.ub[i] = self.beta*self.ub[i] + bias_gradients[i]    if self.ub.empty()!=True  else bias_gradients[i]\n",
    "            biases[i] -= self.learning_rate*self.ub[i]\n",
    "    def clear_history(self):\n",
    "        self.uw = []\n",
    "        self.ub = []"
   ]
  },
  {
   "cell_type": "code",
   "execution_count": null,
   "metadata": {},
   "outputs": [],
   "source": [
    "OPTIMIZER_MAP = {\n",
    "    'gd': GD,\n",
    "    'mgd': Fast_GD,\n",
    "    'nag': Fast_GD \n",
    "}"
   ]
  },
  {
   "cell_type": "code",
   "execution_count": null,
   "metadata": {},
   "outputs": [],
   "source": [
    "\n",
    "class MyNeuralNetwork:\n",
    "    def __init__(self, n_features, hidden_sizes, n_classes):\n",
    "        self.n_features = n_features       #input size\n",
    "        self.hidden_sizes = hidden_sizes   #number of neurons in hidden layers\n",
    "        self.n_classes = n_classes         #output size\n",
    "        \n",
    "        self.weights = []                  #list of weights in each layer\n",
    "        self.biases = []                   #list of biases in each layer\n",
    "\n",
    "        self.g_activation = sigmoid\n",
    "        self.o_activation = softmax\n",
    "\n",
    "        self.batch_size = None\n",
    "        self.optimizer_name = 'GD'\n",
    "        self.optimizer = GD(learning_rate = 0.1)\n",
    "    \n",
    "    def network_hyperparams(self,**kwargs):\n",
    "        for key, value in kwargs.items():\n",
    "            if value is not None and hasattr(self,key):\n",
    "                setattr(self,key,value)\n",
    "\n",
    "    def optimizer_hyperparams(self,optimizer_name, **kwargs):\n",
    "        self.optimizer_name = optimizer_name\n",
    "        self.optimizer = OPTIMIZER_MAP[optimizer_name]\n",
    "\n",
    "    def feed_forward(self,input):\n",
    "        '''\n",
    "        This function does a forward pass\n",
    "\n",
    "        Arguments:\n",
    "            input   : Input vector of size (n_features,1)\n",
    "        \n",
    "        Returns:\n",
    "            out     : An output vector of probabilities of shape (n_classes,1)\n",
    "            a_all   : All intermediate pre_activations\n",
    "            h_all   : All intermediate activations\n",
    "            \n",
    "        '''\n",
    "        a_all = []\n",
    "        h_all = []\n",
    "        h = input\n",
    "        for i in len(self.biases):\n",
    "            a = self.weights[i]@h+self.biases[i]\n",
    "            a_all.append(a)\n",
    "            h = self.g_activation(a)\n",
    "            h_all.append(h)\n",
    "        \n",
    "        out = self.o_activation(h)\n",
    "        return out,a_all,h_all\n",
    "\n",
    "    def compute_gradient(self, true_dist, y_hat, a_all, h_all,w_lookahead = None):\n",
    "        '''\n",
    "        This function does feed_forward and back_propagation\n",
    "\n",
    "        Arguments:\n",
    "            input   : Input vector of size (n_features,1)\n",
    "            true_dist : The true distribution of the input (one hot encoded in the correct class) of size (n_classes,1)\n",
    "            y_hat     : An output vector of probabilities of shape (n_classes,1)\n",
    "            a_all   : All intermediate pre_activations\n",
    "            h_all   : All intermediate activations\n",
    "        \n",
    "        Returns:\n",
    "            weight_grads : list of gradients of weights of each layer\n",
    "            bias_grads   : list of gradients of biases of each layer\n",
    "            \n",
    "        '''\n",
    "        weight_grads = []\n",
    "        bias_grads = []\n",
    "        prev_a_grad = -(true_dist-y_hat)\n",
    "        delta = 1e-3 #derivative helper\n",
    "        for i in np.arange(len(self.biases)-1,0,-1):\n",
    "            weight_grads.append(prev_a_grad@(h_all[i].T))\n",
    "            bias_grads.append(prev_a_grad)\n",
    "            if w_lookahead is None:\n",
    "                prev_h_grad = (self.weights[i].T)@prev_a_grad\n",
    "            else:\n",
    "                prev_h_grad = ((self.weights[i]+w_lookahead[i]).T)@prev_a_grad\n",
    "            del_g = (self.g_activation(a_all[i]+delta)-self.g_activation(a_all[i]))/delta\n",
    "            prev_a_grad = prev_h_grad@del_g\n",
    "\n",
    "        return weight_grads, bias_grads\n",
    "\n",
    "    def train(self, X, y, epochs):\n",
    "        batch_start = 0\n",
    "        for epoch in range(epochs):\n",
    "            X_batch = X[batch_start:batch_start + self.batch_size]\n",
    "            y_batch = y[batch_start:batch_start + self.batch_size]\n",
    "            dw_batch = []\n",
    "            db_batch = []\n",
    "            loss = []\n",
    "            for input,true_dist in zip(X_batch,y_batch):\n",
    "                y_hat,a_all,h_all = self.feed_forward(input)\n",
    "                loss.append(np.square(true_dist - y_hat))\n",
    "                if self.optimizer == 'nag':\n",
    "                    uw = self.optimizer.uw\n",
    "                    beta = self.optimizer.beta\n",
    "                    for i in range(len(uw)):\n",
    "                        uw[i] = -beta*uw[i]\n",
    "                    dw, db = self.compute_gradient(true_dist,y_hat,a_all,h_all, w_lookahead=uw)\n",
    "                else:\n",
    "                    dw, db = self.compute_gradient(true_dist,y_hat,a_all,h_all)                   \n",
    "                if dw_batch.empty():\n",
    "                    dw_batch = dw\n",
    "                    db_batch = db\n",
    "                else:\n",
    "                    for i in range(len(dw_batch)):\n",
    "                        dw_batch[i] += dw[i]\n",
    "                        db_batch[i] += db[i]\n",
    "            self.optimizer.update(self.weights, self.biases, dw_batch,db_batch)\n",
    "            if epoch % 100 == 0:\n",
    "                print(f\"Epoch {epoch}, Loss: {np.mean(loss)}\")\n",
    "\n",
    "    def predict(self, X):\n",
    "        y = []\n",
    "        for input in X:\n",
    "            y.append(self.feed_forward(input))\n",
    "        return np.stack(y)\n"
   ]
  },
  {
   "cell_type": "code",
   "execution_count": null,
   "metadata": {},
   "outputs": [],
   "source": [
    "def one_hot_encoded(labels):\n",
    "    n_classes = np.size(np.unique(labels))\n",
    "    out = np.zeros((labels.shape[0], n_classes))\n",
    "    for i,l in enumerate(labels):\n",
    "        out[i,l] = 1\n",
    "    return out"
   ]
  },
  {
   "cell_type": "code",
   "execution_count": null,
   "metadata": {},
   "outputs": [
    {
     "data": {
      "text/plain": [
       "(60000, 784)"
      ]
     },
     "execution_count": 16,
     "metadata": {},
     "output_type": "execute_result"
    }
   ],
   "source": [
    "#check reshape matches data\n",
    "#train_images.reshape((train_images.shape[0],-1)).shape"
   ]
  },
  {
   "cell_type": "code",
   "execution_count": null,
   "metadata": {},
   "outputs": [],
   "source": []
  },
  {
   "cell_type": "code",
   "execution_count": null,
   "metadata": {},
   "outputs": [],
   "source": [
    "X,y = train_images.reshape((train_images.shape[0],-1)), one_hot_encoded(train_labels)\n",
    "\n",
    "n_features = X.shape[1]\n",
    "n_classes = 10\n",
    "hidden_sizes = [10,10,n_classes]\n",
    "\n",
    "mynn = MyNeuralNetwork(n_features, hidden_sizes, n_classes)\n"
   ]
  },
  {
   "cell_type": "markdown",
   "metadata": {},
   "source": []
  },
  {
   "cell_type": "code",
   "execution_count": null,
   "metadata": {},
   "outputs": [],
   "source": [
    "\n",
    "\n",
    "        "
   ]
  }
 ],
 "metadata": {
  "kernelspec": {
   "display_name": "dl_env",
   "language": "python",
   "name": "python3"
  },
  "language_info": {
   "codemirror_mode": {
    "name": "ipython",
    "version": 3
   },
   "file_extension": ".py",
   "mimetype": "text/x-python",
   "name": "python",
   "nbconvert_exporter": "python",
   "pygments_lexer": "ipython3",
   "version": "3.12.0"
  }
 },
 "nbformat": 4,
 "nbformat_minor": 2
}
