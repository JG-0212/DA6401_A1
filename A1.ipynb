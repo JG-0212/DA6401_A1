{
 "cells": [
  {
   "cell_type": "code",
   "execution_count": 30,
   "metadata": {},
   "outputs": [
    {
     "name": "stdout",
     "output_type": "stream",
     "text": [
      "The autoreload extension is already loaded. To reload it, use:\n",
      "  %reload_ext autoreload\n"
     ]
    }
   ],
   "source": [
    "from Data import *\n",
    "from NeuralNetwork import *\n",
    "%load_ext autoreload\n",
    "%autoreload 2"
   ]
  },
  {
   "cell_type": "code",
   "execution_count": 31,
   "metadata": {},
   "outputs": [],
   "source": [
    "(train_images, train_labels), (test_images, test_labels)   =  load_data(name = 'fashion_mnist')\n",
    "train_images, train_labels, valid_images, valid_labels = split_validation(train_images, train_labels, valid_size=0.1, seed = 42)\n",
    "train_images, train_labels,_,_ = split_validation(train_images, train_labels, valid_size=0.95, seed = 42)\n",
    "X_train, X_valid, X_test = preprocess(train_images), preprocess(valid_images), preprocess(test_images)\n",
    "y_train, y_valid, y_test = one_hot_encoded(train_labels), one_hot_encoded(valid_labels), one_hot_encoded(test_labels)\n"
   ]
  },
  {
   "cell_type": "code",
   "execution_count": 37,
   "metadata": {},
   "outputs": [
    {
     "name": "stdout",
     "output_type": "stream",
     "text": [
      "Epoch 0, T_Loss: 2.305275389600528, T_acc: 0.1262962962962963, V_Loss: 2.30594454474325, V_acc: 0.1255\n",
      "Epoch 1, T_Loss: 2.0440304734267096, T_acc: 0.24925925925925926, V_Loss: 2.046231431617128, V_acc: 0.2445\n",
      "Epoch 2, T_Loss: 1.84384617267119, T_acc: 0.3207407407407407, V_Loss: 1.8479707901845268, V_acc: 0.3268333333333333\n",
      "Epoch 3, T_Loss: 1.6824995166377021, T_acc: 0.3488888888888889, V_Loss: 1.6870452481188634, V_acc: 0.357\n",
      "Epoch 4, T_Loss: 1.5557881459365204, T_acc: 0.3814814814814815, V_Loss: 1.5606155838075577, V_acc: 0.383\n",
      "Epoch 5, T_Loss: 1.4518087782674538, T_acc: 0.4085185185185185, V_Loss: 1.4574649084179914, V_acc: 0.4086666666666667\n",
      "Epoch 6, T_Loss: 1.3668714827712847, T_acc: 0.43074074074074076, V_Loss: 1.3736972963975138, V_acc: 0.43116666666666664\n",
      "Epoch 7, T_Loss: 1.298525707271811, T_acc: 0.4659259259259259, V_Loss: 1.3065707162540923, V_acc: 0.46416666666666667\n",
      "Epoch 8, T_Loss: 1.2436455889341242, T_acc: 0.5048148148148148, V_Loss: 1.2527518022850452, V_acc: 0.49316666666666664\n",
      "Epoch 9, T_Loss: 1.1994357772387132, T_acc: 0.5211111111111111, V_Loss: 1.209349491364856, V_acc: 0.5131666666666667\n",
      "Epoch 10, T_Loss: 1.163842219764597, T_acc: 0.5333333333333333, V_Loss: 1.174305430504055, V_acc: 0.525\n"
     ]
    }
   ],
   "source": [
    "\n",
    "#Reading the config file\n",
    "\n",
    "#Getting the configutation from wandb sweep\n",
    "num_layers = 4\n",
    "hidden_size = 128\n",
    "lr = 1e-4\n",
    "beta = 0.9\n",
    "beta_m = 0.9\n",
    "beta_v = 0.99\n",
    "alpha = 5e-4\n",
    "winit = \"Xavier\"\n",
    "bs = 16\n",
    "epochs = 10\n",
    "optimizer_name = 'sgd'\n",
    "g_activation = \"tanh\"\n",
    "\n",
    "\n",
    "#Preparing hyperparameters for our optimizer\n",
    "if optimizer_name == 'sgd':\n",
    "    optim_hp = {'learning_rate':lr, 'alpha': alpha}\n",
    "elif optimizer_name == 'momentum' or optimizer_name == 'nag' or optimizer_name == 'rmsprop':\n",
    "    optim_hp = {'learning_rate':lr, 'beta': beta, 'alpha': alpha}\n",
    "elif optimizer_name == 'adam' or optimizer_name == 'nadam':\n",
    "    optim_hp = {'learning_rate':lr, 'beta_m': beta_m, 'beta_v': beta_v, 'alpha':alpha}\n",
    "\n",
    "n_features = X_train.shape[1]\n",
    "n_classes = y_train.shape[1]\n",
    "hidden_sizes = [hidden_size]*num_layers + [n_classes]\n",
    "\n",
    "network_hp = {'batch_size': bs, 'g_activation': ACTIVATIONS_MAP[g_activation]}\n",
    "mynn = MyNeuralNetwork(n_features, hidden_sizes, n_classes)\n",
    "mynn.update_network_hp(**network_hp)  \n",
    "mynn.update_optim_hp(optimizer_name,**optim_hp)   \n",
    "mynn.params_init(way = winit) \n",
    "mynn.train(X_train,y_train,X_valid,y_valid,epochs = epochs)"
   ]
  },
  {
   "cell_type": "code",
   "execution_count": 33,
   "metadata": {},
   "outputs": [
    {
     "data": {
      "text/plain": [
       "array([[ 0.01772481, -0.00493384,  0.0231122 , ..., -0.04765059,\n",
       "         0.01356703,  0.02178821],\n",
       "       [ 0.01997563,  0.03856671,  0.03093526, ..., -0.0090684 ,\n",
       "         0.0023905 ,  0.01841084],\n",
       "       [-0.05575807, -0.01887878,  0.02834232, ..., -0.01398888,\n",
       "         0.0378229 ,  0.02201731],\n",
       "       ...,\n",
       "       [ 0.0319868 ,  0.02673735, -0.01335117, ...,  0.02254338,\n",
       "        -0.02667839,  0.04674911],\n",
       "       [-0.02085302,  0.03958946,  0.08083221, ...,  0.02941196,\n",
       "         0.00889504, -0.00427238],\n",
       "       [ 0.00222479,  0.00266294,  0.04193468, ..., -0.02031125,\n",
       "         0.05703667, -0.02343359]])"
      ]
     },
     "execution_count": 33,
     "metadata": {},
     "output_type": "execute_result"
    }
   ],
   "source": [
    "mynn.weights[0]"
   ]
  },
  {
   "cell_type": "code",
   "execution_count": 25,
   "metadata": {},
   "outputs": [
    {
     "name": "stdout",
     "output_type": "stream",
     "text": [
      "Epoch 0, T_Loss: 1.859315632527439, T_acc: 0.23592592592592593, V_Loss: 1.8575566741113119, V_acc: 0.23866666666666667\n",
      "Epoch 1, T_Loss: 1.9175079987000518, T_acc: 0.22148148148148147, V_Loss: 1.934515260370076, V_acc: 0.21166666666666667\n",
      "Epoch 2, T_Loss: 1.9771581499629145, T_acc: 0.22111111111111112, V_Loss: 2.0008885753759165, V_acc: 0.21216666666666667\n",
      "Epoch 3, T_Loss: 1.7317235633765997, T_acc: 0.26407407407407407, V_Loss: 1.742943337378979, V_acc: 0.26316666666666666\n",
      "Epoch 4, T_Loss: 1.7741181627893656, T_acc: 0.24259259259259258, V_Loss: 1.7785471558641266, V_acc: 0.24266666666666667\n",
      "Epoch 5, T_Loss: 1.628909223227189, T_acc: 0.2833333333333333, V_Loss: 1.639248265080958, V_acc: 0.281\n",
      "Epoch 6, T_Loss: 1.8459224000637853, T_acc: 0.20074074074074075, V_Loss: 1.8469254544967248, V_acc: 0.201\n",
      "Epoch 7, T_Loss: 2.1595353996247275, T_acc: 0.2788888888888889, V_Loss: 2.173633069145296, V_acc: 0.27366666666666667\n",
      "Epoch 8, T_Loss: 2.224629325845141, T_acc: 0.17222222222222222, V_Loss: 2.2671806064369613, V_acc: 0.17366666666666666\n",
      "Epoch 9, T_Loss: 1.572498800971515, T_acc: 0.29185185185185186, V_Loss: 1.5730861997157626, V_acc: 0.2865\n",
      "Epoch 10, T_Loss: 1.5906742412473, T_acc: 0.2651851851851852, V_Loss: 1.5818278863133115, V_acc: 0.2725\n"
     ]
    }
   ],
   "source": [
    "mynn.train(X_train,y_train,X_valid,y_valid,epochs = 10)"
   ]
  },
  {
   "cell_type": "code",
   "execution_count": null,
   "metadata": {},
   "outputs": [],
   "source": [
    "y_test_pred = mynn.predict(X_test)"
   ]
  },
  {
   "cell_type": "code",
   "execution_count": null,
   "metadata": {},
   "outputs": [
    {
     "name": "stdout",
     "output_type": "stream",
     "text": [
      "0.7294\n"
     ]
    }
   ],
   "source": [
    "print(np.sum(np.argmax(y_test,axis = 1)==np.argmax(y_test_pred,axis = 1))/y_test.shape[0])"
   ]
  },
  {
   "cell_type": "code",
   "execution_count": null,
   "metadata": {},
   "outputs": [
    {
     "data": {
      "text/plain": [
       "(array([0, 1, 2, 3, 4, 5, 6, 7, 8, 9]),\n",
       " array([270, 270, 270, 270, 270, 270, 270, 270, 270, 270]))"
      ]
     },
     "execution_count": 38,
     "metadata": {},
     "output_type": "execute_result"
    }
   ],
   "source": [
    "from collections import Counter\n",
    "np.unique(np.argmax(y_train,axis = 1), return_counts = True)"
   ]
  },
  {
   "cell_type": "code",
   "execution_count": null,
   "metadata": {},
   "outputs": [
    {
     "data": {
      "text/plain": [
       "array([[ 0.44397905, -0.2270532 ,  0.85351622, ..., -1.66284238,\n",
       "         0.06621643,  0.46687932],\n",
       "       [ 0.55918849,  1.16691805,  0.87170058, ..., -0.33291553,\n",
       "         0.1899259 ,  0.71354788],\n",
       "       [-1.5601007 , -0.5778982 ,  0.67630795, ..., -0.57130518,\n",
       "         0.88317859,  0.44534818],\n",
       "       ...,\n",
       "       [-0.53291019, -0.67599409,  1.37280076, ...,  1.81105739,\n",
       "        -0.12194865,  0.84618229],\n",
       "       [ 0.82133766,  0.64010845, -0.43371267, ..., -1.92825264,\n",
       "        -0.22334057, -0.67335536],\n",
       "       [ 1.76370395, -0.02307934, -0.35251759, ...,  1.24726423,\n",
       "         1.64829953,  1.31408006]])"
      ]
     },
     "execution_count": 19,
     "metadata": {},
     "output_type": "execute_result"
    }
   ],
   "source": [
    "mynn.weights[0]"
   ]
  },
  {
   "cell_type": "markdown",
   "metadata": {},
   "source": []
  }
 ],
 "metadata": {
  "kernelspec": {
   "display_name": "dl_env",
   "language": "python",
   "name": "python3"
  },
  "language_info": {
   "codemirror_mode": {
    "name": "ipython",
    "version": 3
   },
   "file_extension": ".py",
   "mimetype": "text/x-python",
   "name": "python",
   "nbconvert_exporter": "python",
   "pygments_lexer": "ipython3",
   "version": "3.12.0"
  }
 },
 "nbformat": 4,
 "nbformat_minor": 2
}
