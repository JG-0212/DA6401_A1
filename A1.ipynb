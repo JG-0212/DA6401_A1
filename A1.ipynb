{
 "cells": [
  {
   "cell_type": "code",
   "execution_count": 1,
   "metadata": {},
   "outputs": [],
   "source": [
    "from Data import *\n",
    "from NeuralNetwork import *\n",
    "%load_ext autoreload\n",
    "%autoreload 2"
   ]
  },
  {
   "cell_type": "code",
   "execution_count": 2,
   "metadata": {},
   "outputs": [],
   "source": [
    "(train_images, train_labels), (test_images, test_labels)   =  load_data(name = 'fashion_mnist')\n",
    "train_images, train_labels, valid_images, valid_labels = split_validation(train_images, train_labels, valid_size=0.1, seed = 42)\n",
    "# train_images, train_labels,_,_ = split_validation(train_images, train_labels, valid_size=0.95, seed = 42)\n",
    "X_train, X_valid, X_test = preprocess(train_images), preprocess(valid_images), preprocess(test_images)\n",
    "y_train, y_valid, y_test = one_hot_encoded(train_labels), one_hot_encoded(valid_labels), one_hot_encoded(test_labels)\n"
   ]
  },
  {
   "cell_type": "code",
   "execution_count": 3,
   "metadata": {},
   "outputs": [
    {
     "data": {
      "text/plain": [
       "<matplotlib.image.AxesImage at 0x1d20d798d10>"
      ]
     },
     "execution_count": 3,
     "metadata": {},
     "output_type": "execute_result"
    },
    {
     "data": {
      "image/png": "[encoded data removed]",
      "text/plain": [
       "<Figure size 640x480 with 1 Axes>"
      ]
     },
     "metadata": {},
     "output_type": "display_data"
    }
   ],
   "source": [
    "plt.imshow(train_images[10000].reshape(28,28))"
   ]
  },
  {
   "cell_type": "code",
   "execution_count": 4,
   "metadata": {},
   "outputs": [
    {
     "data": {
      "text/plain": [
       "'Trouser'"
      ]
     },
     "execution_count": 4,
     "metadata": {},
     "output_type": "execute_result"
    }
   ],
   "source": [
    "fashion_names[train_labels[10000]]"
   ]
  },
  {
   "cell_type": "code",
   "execution_count": 6,
   "metadata": {},
   "outputs": [
    {
     "name": "stdout",
     "output_type": "stream",
     "text": [
      "Epoch 0, T_Loss: 2.390445539382526, T_acc: 0.0627962962962963, V_Loss: 2.387697023290266, V_acc: 0.06966666666666667\n",
      "Epoch 1, T_Loss: 1.7576540823609412, T_acc: 0.33785185185185185, V_Loss: 1.7537104009743025, V_acc: 0.3403333333333333\n",
      "Epoch 2, T_Loss: 1.2416359242695687, T_acc: 0.5874074074074074, V_Loss: 1.2391397965247826, V_acc: 0.5908333333333333\n",
      "Epoch 3, T_Loss: 1.0409103124850168, T_acc: 0.6541666666666667, V_Loss: 1.0413652604698111, V_acc: 0.653\n",
      "Epoch 4, T_Loss: 0.9227099793389061, T_acc: 0.6855185185185185, V_Loss: 0.9255667797912162, V_acc: 0.6816666666666666\n",
      "Epoch 5, T_Loss: 0.8584302006595484, T_acc: 0.6979074074074074, V_Loss: 0.8627960140515998, V_acc: 0.695\n",
      "Epoch 6, T_Loss: 0.8092020999536523, T_acc: 0.7131851851851851, V_Loss: 0.8150853216688638, V_acc: 0.7103333333333334\n",
      "Epoch 7, T_Loss: 0.7740754626973577, T_acc: 0.7256851851851852, V_Loss: 0.7807937698688677, V_acc: 0.7231666666666666\n",
      "Epoch 8, T_Loss: 0.7448848589514991, T_acc: 0.7375555555555555, V_Loss: 0.7524817599959314, V_acc: 0.7368333333333333\n",
      "Epoch 9, T_Loss: 0.7213348077729538, T_acc: 0.747, V_Loss: 0.7294509906452759, V_acc: 0.7463333333333333\n",
      "Epoch 10, T_Loss: 0.7005745552808278, T_acc: 0.7551481481481481, V_Loss: 0.7091958830215026, V_acc: 0.7541666666666667\n"
     ]
    }
   ],
   "source": [
    "\n",
    "#Reading the config file\n",
    "\n",
    "#Getting the configutation from wandb sweep\n",
    "num_layers = 5\n",
    "hidden_size = 512\n",
    "lr = 1e-4\n",
    "beta = 0.9\n",
    "beta_m = 0.9\n",
    "beta_v = 0.99\n",
    "alpha = 5e-4\n",
    "winit = \"Xavier\"\n",
    "bs = 3000\n",
    "epochs = 10\n",
    "optimizer_name = 'nadam'\n",
    "g_activation = \"tanh\"\n",
    "\n",
    "\n",
    "#Preparing hyperparameters for our optimizer\n",
    "if optimizer_name == 'sgd':\n",
    "    optim_hp = {'learning_rate':lr, 'alpha': alpha}\n",
    "elif optimizer_name == 'momentum' or optimizer_name == 'nag' or optimizer_name == 'rmsprop':\n",
    "    optim_hp = {'learning_rate':lr, 'beta': beta, 'alpha': alpha}\n",
    "elif optimizer_name == 'adam' or optimizer_name == 'nadam':\n",
    "    optim_hp = {'learning_rate':lr, 'beta_m': beta_m, 'beta_v': beta_v, 'alpha':alpha}\n",
    "\n",
    "n_features = X_train.shape[1]\n",
    "n_classes = y_train.shape[1]\n",
    "hidden_sizes = [hidden_size]*num_layers + [n_classes]\n",
    "\n",
    "network_hp = {'batch_size': bs, 'g_activation': ACTIVATIONS_MAP[g_activation]}\n",
    "mynn = MyNeuralNetwork(n_features, hidden_sizes, n_classes)\n",
    "mynn.update_network_hp(**network_hp)  \n",
    "mynn.update_optim_hp(optimizer_name,**optim_hp)   \n",
    "mynn.params_init(way = winit) \n",
    "mynn.train(X_train,y_train,X_valid,y_valid,epochs = epochs)"
   ]
  },
  {
   "cell_type": "code",
   "execution_count": 10,
   "metadata": {},
   "outputs": [
    {
     "name": "stdout",
     "output_type": "stream",
     "text": [
      "Epoch 0, T_Loss: 0.4643666424487729, T_acc: 0.8345370370370371, V_Loss: 0.47456355929729427, V_acc: 0.8356666666666667\n",
      "Epoch 1, T_Loss: 0.46212451771507324, T_acc: 0.8351481481481482, V_Loss: 0.47242981219631186, V_acc: 0.8361666666666666\n",
      "Epoch 2, T_Loss: 0.45993311177421675, T_acc: 0.8357962962962963, V_Loss: 0.4703492204024702, V_acc: 0.8375\n",
      "Epoch 3, T_Loss: 0.4577903467409759, T_acc: 0.8366666666666667, V_Loss: 0.46831944694072564, V_acc: 0.8385\n",
      "Epoch 4, T_Loss: 0.4556942960802973, T_acc: 0.8372962962962963, V_Loss: 0.46633832620016014, V_acc: 0.839\n",
      "Epoch 5, T_Loss: 0.4536431677392823, T_acc: 0.837925925925926, V_Loss: 0.464403846724701, V_acc: 0.8396666666666667\n",
      "Epoch 6, T_Loss: 0.4516352883733112, T_acc: 0.8385370370370371, V_Loss: 0.4625141343923873, V_acc: 0.8405\n",
      "Epoch 7, T_Loss: 0.44966908975065856, T_acc: 0.8389444444444445, V_Loss: 0.4606674368241232, V_acc: 0.8403333333333334\n",
      "Epoch 8, T_Loss: 0.44774309777587107, T_acc: 0.8396851851851852, V_Loss: 0.4588621100536108, V_acc: 0.8406666666666667\n"
     ]
    },
    {
     "ename": "",
     "evalue": "",
     "output_type": "error",
     "traceback": [
      "\u001b[1;31mThe Kernel crashed while executing code in the current cell or a previous cell. \n",
      "\u001b[1;31mPlease review the code in the cell(s) to identify a possible cause of the failure. \n",
      "\u001b[1;31mClick <a href='https://aka.ms/vscodeJupyterKernelCrash'>here</a> for more info. \n",
      "\u001b[1;31mView Jupyter <a href='command:jupyter.viewOutput'>log</a> for further details."
     ]
    }
   ],
   "source": [
    "mynn.train(X_train,y_train,X_valid,y_valid,epochs = 10)"
   ]
  },
  {
   "cell_type": "code",
   "execution_count": 25,
   "metadata": {},
   "outputs": [
    {
     "name": "stdout",
     "output_type": "stream",
     "text": [
      "Epoch 0, T_Loss: 1.859315632527439, T_acc: 0.23592592592592593, V_Loss: 1.8575566741113119, V_acc: 0.23866666666666667\n",
      "Epoch 1, T_Loss: 1.9175079987000518, T_acc: 0.22148148148148147, V_Loss: 1.934515260370076, V_acc: 0.21166666666666667\n",
      "Epoch 2, T_Loss: 1.9771581499629145, T_acc: 0.22111111111111112, V_Loss: 2.0008885753759165, V_acc: 0.21216666666666667\n",
      "Epoch 3, T_Loss: 1.7317235633765997, T_acc: 0.26407407407407407, V_Loss: 1.742943337378979, V_acc: 0.26316666666666666\n",
      "Epoch 4, T_Loss: 1.7741181627893656, T_acc: 0.24259259259259258, V_Loss: 1.7785471558641266, V_acc: 0.24266666666666667\n",
      "Epoch 5, T_Loss: 1.628909223227189, T_acc: 0.2833333333333333, V_Loss: 1.639248265080958, V_acc: 0.281\n",
      "Epoch 6, T_Loss: 1.8459224000637853, T_acc: 0.20074074074074075, V_Loss: 1.8469254544967248, V_acc: 0.201\n",
      "Epoch 7, T_Loss: 2.1595353996247275, T_acc: 0.2788888888888889, V_Loss: 2.173633069145296, V_acc: 0.27366666666666667\n",
      "Epoch 8, T_Loss: 2.224629325845141, T_acc: 0.17222222222222222, V_Loss: 2.2671806064369613, V_acc: 0.17366666666666666\n",
      "Epoch 9, T_Loss: 1.572498800971515, T_acc: 0.29185185185185186, V_Loss: 1.5730861997157626, V_acc: 0.2865\n",
      "Epoch 10, T_Loss: 1.5906742412473, T_acc: 0.2651851851851852, V_Loss: 1.5818278863133115, V_acc: 0.2725\n"
     ]
    }
   ],
   "source": [
    "mynn.train(X_train,y_train,X_valid,y_valid,epochs = 10)"
   ]
  },
  {
   "cell_type": "code",
   "execution_count": null,
   "metadata": {},
   "outputs": [],
   "source": [
    "y_test_pred = mynn.predict(X_test)"
   ]
  },
  {
   "cell_type": "code",
   "execution_count": null,
   "metadata": {},
   "outputs": [
    {
     "name": "stdout",
     "output_type": "stream",
     "text": [
      "0.7294\n"
     ]
    }
   ],
   "source": [
    "print(np.sum(np.argmax(y_test,axis = 1)==np.argmax(y_test_pred,axis = 1))/y_test.shape[0])"
   ]
  },
  {
   "cell_type": "code",
   "execution_count": null,
   "metadata": {},
   "outputs": [
    {
     "data": {
      "text/plain": [
       "(array([0, 1, 2, 3, 4, 5, 6, 7, 8, 9]),\n",
       " array([270, 270, 270, 270, 270, 270, 270, 270, 270, 270]))"
      ]
     },
     "execution_count": 38,
     "metadata": {},
     "output_type": "execute_result"
    }
   ],
   "source": [
    "from collections import Counter\n",
    "np.unique(np.argmax(y_train,axis = 1), return_counts = True)"
   ]
  },
  {
   "cell_type": "code",
   "execution_count": null,
   "metadata": {},
   "outputs": [
    {
     "data": {
      "text/plain": [
       "array([[ 0.44397905, -0.2270532 ,  0.85351622, ..., -1.66284238,\n",
       "         0.06621643,  0.46687932],\n",
       "       [ 0.55918849,  1.16691805,  0.87170058, ..., -0.33291553,\n",
       "         0.1899259 ,  0.71354788],\n",
       "       [-1.5601007 , -0.5778982 ,  0.67630795, ..., -0.57130518,\n",
       "         0.88317859,  0.44534818],\n",
       "       ...,\n",
       "       [-0.53291019, -0.67599409,  1.37280076, ...,  1.81105739,\n",
       "        -0.12194865,  0.84618229],\n",
       "       [ 0.82133766,  0.64010845, -0.43371267, ..., -1.92825264,\n",
       "        -0.22334057, -0.67335536],\n",
       "       [ 1.76370395, -0.02307934, -0.35251759, ...,  1.24726423,\n",
       "         1.64829953,  1.31408006]])"
      ]
     },
     "execution_count": 19,
     "metadata": {},
     "output_type": "execute_result"
    }
   ],
   "source": [
    "mynn.weights[0]"
   ]
  },
  {
   "cell_type": "markdown",
   "metadata": {},
   "source": []
  }
 ],
 "metadata": {
  "kernelspec": {
   "display_name": "dl_env",
   "language": "python",
   "name": "python3"
  },
  "language_info": {
   "codemirror_mode": {
    "name": "ipython",
    "version": 3
   },
   "file_extension": ".py",
   "mimetype": "text/x-python",
   "name": "python",
   "nbconvert_exporter": "python",
   "pygments_lexer": "ipython3",
   "version": "3.12.0"
  }
 },
 "nbformat": 4,
 "nbformat_minor": 2
}
